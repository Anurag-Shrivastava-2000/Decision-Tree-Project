{
 "cells": [
  {
   "cell_type": "code",
   "execution_count": 11,
   "id": "6f315477-f1c7-41c8-ba58-f7bb758d4361",
   "metadata": {},
   "outputs": [],
   "source": [
    "import numpy as np\n",
    "import pandas as pd\n",
    "import warnings\n",
    "warnings.filterwarnings(\"ignore\")"
   ]
  },
  {
   "cell_type": "code",
   "execution_count": 3,
   "id": "baf44b09-4562-4470-b85a-cad1c3bdb24f",
   "metadata": {},
   "outputs": [],
   "source": [
    "import pickle\n",
    "# Load data (deserialize)\n",
    "with open('X_sm.pkl', 'rb') as handle:\n",
    "    X_train = pickle.load(handle)\n",
    "\n",
    "with open('X_test.pkl', 'rb') as handle:\n",
    "    X_test = pickle.load(handle)\n",
    "\n",
    "with open('y_sm.pkl', 'rb') as handle:\n",
    "    y_train = pickle.load(handle)\n",
    "\n",
    "with open('y_test.pkl', 'rb') as handle:\n",
    "    y_test = pickle.load(handle)"
   ]
  },
  {
   "cell_type": "code",
   "execution_count": 6,
   "id": "95d3f323-cada-4c90-9acb-30236989a038",
   "metadata": {},
   "outputs": [],
   "source": [
    "# Training model with Decision Tree Classifier.\n",
    "\n",
    "from sklearn.tree import DecisionTreeClassifier\n",
    "\n",
    "#Creating model object for Decision Tree Classifier\n",
    "\n",
    "model = DecisionTreeClassifier(random_state=7, max_depth=6)\n",
    "\n",
    "model.fit(X_train, y_train)\n",
    "y_pred=model.predict(X_test)"
   ]
  },
  {
   "cell_type": "code",
   "execution_count": 8,
   "id": "f9d1f000-785f-48d0-bfef-c22cd88190b1",
   "metadata": {},
   "outputs": [
    {
     "data": {
      "text/plain": [
       "0.7244897959183674"
      ]
     },
     "execution_count": 8,
     "metadata": {},
     "output_type": "execute_result"
    }
   ],
   "source": [
    "# Checking accuracy\n",
    "\n",
    "from sklearn.metrics import accuracy_score\n",
    "\n",
    "accuracy_score(y_test, y_pred)"
   ]
  },
  {
   "cell_type": "code",
   "execution_count": 9,
   "id": "d20ea8f9-8c42-4ea3-a554-52ba3d84ff45",
   "metadata": {},
   "outputs": [
    {
     "data": {
      "text/plain": [
       "(0.8935091277890467, 0.7244897959183674)"
      ]
     },
     "execution_count": 9,
     "metadata": {},
     "output_type": "execute_result"
    }
   ],
   "source": [
    "model.score(X_train, y_train), model.score(X_test, y_test)"
   ]
  },
  {
   "cell_type": "markdown",
   "id": "2ffd264c-1bb1-47f5-8c5a-87434dd5699a",
   "metadata": {},
   "source": [
    "## The accuracy is way off, we need to do hyperparameter tuning to increase the accuracy.\n",
    "\n",
    "### Will be using GridSearchCV"
   ]
  },
  {
   "cell_type": "code",
   "execution_count": 12,
   "id": "70713ca2-f8db-43a0-a622-b7a55bf28ab5",
   "metadata": {},
   "outputs": [
    {
     "name": "stdout",
     "output_type": "stream",
     "text": [
      "Best Parameters: {'ccp_alpha': 0.01, 'criterion': 'entropy', 'max_depth': 7, 'max_features': None, 'min_samples_leaf': 1, 'min_samples_split': 2}\n"
     ]
    }
   ],
   "source": [
    "from sklearn.model_selection import GridSearchCV\n",
    "\n",
    "params={'max_depth': [3,4,5,6,7,8,10, None], 'min_samples_split': [2,5,8,10, None], 'min_samples_leaf': [1,2,3,5,8,10,None], 'ccp_alpha': [0.01, 0.1, 0.2, 0.3, 0.35],\n",
    "       'criterion': ['gini', 'entropy'], 'max_features': ['sqrt', 'log2', None]}\n",
    "\n",
    "dt = DecisionTreeClassifier(random_state=42)\n",
    "model1 = GridSearchCV(dt, param_grid=params, cv=5, scoring='accuracy', n_jobs=-1)\n",
    "\n",
    "model1.fit(X_train, y_train)\n",
    "\n",
    "print(\"Best Parameters:\", model1.best_params_)"
   ]
  },
  {
   "cell_type": "code",
   "execution_count": 13,
   "id": "412afa1f-82af-4321-b552-b3567fe33093",
   "metadata": {},
   "outputs": [
    {
     "name": "stdout",
     "output_type": "stream",
     "text": [
      "Test Accuracy: 0.7857142857142857\n"
     ]
    }
   ],
   "source": [
    "# Training model on the best parameter.\n",
    "\n",
    "best_model = model1.best_estimator_\n",
    "\n",
    "y_pred = best_model.predict(X_test)\n",
    "\n",
    "accuracy = accuracy_score(y_test, y_pred)\n",
    "print(\"Test Accuracy:\", accuracy)"
   ]
  },
  {
   "cell_type": "code",
   "execution_count": 14,
   "id": "3f82fb3c-8720-4866-9848-215d96d0b553",
   "metadata": {},
   "outputs": [
    {
     "data": {
      "text/plain": [
       "(0.8336713995943205, 0.7857142857142857)"
      ]
     },
     "execution_count": 14,
     "metadata": {},
     "output_type": "execute_result"
    }
   ],
   "source": [
    "model1.score(X_train, y_train), model1.score(X_test, y_test)"
   ]
  },
  {
   "cell_type": "markdown",
   "id": "53bd17b9-169f-4c82-a81a-26430f94ade6",
   "metadata": {},
   "source": [
    "Clearly the above"
   ]
  }
 ],
 "metadata": {
  "kernelspec": {
   "display_name": "Python 3 (ipykernel)",
   "language": "python",
   "name": "python3"
  },
  "language_info": {
   "codemirror_mode": {
    "name": "ipython",
    "version": 3
   },
   "file_extension": ".py",
   "mimetype": "text/x-python",
   "name": "python",
   "nbconvert_exporter": "python",
   "pygments_lexer": "ipython3",
   "version": "3.13.2"
  }
 },
 "nbformat": 4,
 "nbformat_minor": 5
}
